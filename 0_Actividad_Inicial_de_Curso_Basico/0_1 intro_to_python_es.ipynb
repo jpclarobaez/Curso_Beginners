{
 "cells": [
  {
   "cell_type": "markdown",
   "metadata": {
    "toc": true
   },
   "source": [
    "<h1>Table of Contents<span class=\"tocSkip\"></span></h1>\n",
    "<div class=\"toc\"><ul class=\"toc-item\"><li><span><a href=\"#¡Empecemos!\" data-toc-modified-id=\"¡Empecemos!-1\"><span class=\"toc-item-num\">1&nbsp;&nbsp;</span>¡Empecemos!</a></span></li><li><span><a href=\"#Tipos-de-datos-básicos:-números,-booleanos-y-cadenas\" data-toc-modified-id=\"Tipos-de-datos-básicos:-números,-booleanos-y-cadenas-2\"><span class=\"toc-item-num\">2&nbsp;&nbsp;</span>Tipos de datos básicos: números, booleanos y cadenas</a></span><ul class=\"toc-item\"><li><span><a href=\"#Numérico\" data-toc-modified-id=\"Numérico-2.1\"><span class=\"toc-item-num\">2.1&nbsp;&nbsp;</span>Numérico</a></span><ul class=\"toc-item\"><li><span><a href=\"#Operadores-matemáticos:-+,--,-\\-,-/,-*\" data-toc-modified-id=\"Operadores-matemáticos:-+,--,-\\-,-/,-*-2.1.1\"><span class=\"toc-item-num\">2.1.1&nbsp;&nbsp;</span>Operadores matemáticos: +, -, \\ <em>, /,</em> *</a></span></li><li><span><a href=\"#Operadores-matemáticos-abreviados\" data-toc-modified-id=\"Operadores-matemáticos-abreviados-2.1.2\"><span class=\"toc-item-num\">2.1.2&nbsp;&nbsp;</span>Operadores matemáticos abreviados</a></span></li></ul></li><li><span><a href=\"#Booleanos-y-operadores-lógicos\" data-toc-modified-id=\"Booleanos-y-operadores-lógicos-2.2\"><span class=\"toc-item-num\">2.2&nbsp;&nbsp;</span>Booleanos y operadores lógicos</a></span><ul class=\"toc-item\"><li><span><a href=\"#Operadores-logicos\" data-toc-modified-id=\"Operadores-logicos-2.2.1\"><span class=\"toc-item-num\">2.2.1&nbsp;&nbsp;</span>Operadores logicos</a></span></li></ul></li><li><span><a href=\"#1.3-Strings-(cadenas-de-caracteres)\" data-toc-modified-id=\"1.3-Strings-(cadenas-de-caracteres)-2.3\"><span class=\"toc-item-num\">2.3&nbsp;&nbsp;</span>1.3 Strings (cadenas de caracteres)</a></span><ul class=\"toc-item\"><li><span><a href=\"#Métodos-de-strings\" data-toc-modified-id=\"Métodos-de-strings-2.3.1\"><span class=\"toc-item-num\">2.3.1&nbsp;&nbsp;</span>Métodos de strings</a></span></li></ul></li></ul></li><li><span><a href=\"#Tipos-de-datos-de-contenedor\" data-toc-modified-id=\"Tipos-de-datos-de-contenedor-3\"><span class=\"toc-item-num\">3&nbsp;&nbsp;</span>Tipos de datos de contenedor</a></span><ul class=\"toc-item\"><li><span><a href=\"#Listas\" data-toc-modified-id=\"Listas-3.1\"><span class=\"toc-item-num\">3.1&nbsp;&nbsp;</span>Listas</a></span></li><li><span><a href=\"#Tuplas\" data-toc-modified-id=\"Tuplas-3.2\"><span class=\"toc-item-num\">3.2&nbsp;&nbsp;</span>Tuplas</a></span></li><li><span><a href=\"#Diccionarios\" data-toc-modified-id=\"Diccionarios-3.3\"><span class=\"toc-item-num\">3.3&nbsp;&nbsp;</span>Diccionarios</a></span></li><li><span><a href=\"#Conjuntos\" data-toc-modified-id=\"Conjuntos-3.4\"><span class=\"toc-item-num\">3.4&nbsp;&nbsp;</span>Conjuntos</a></span></li></ul></li><li><span><a href=\"#3.-Funciones\" data-toc-modified-id=\"3.-Funciones-4\"><span class=\"toc-item-num\">4&nbsp;&nbsp;</span>3. Funciones</a></span></li><li><span><a href=\"#Flujo-de-control\" data-toc-modified-id=\"Flujo-de-control-5\"><span class=\"toc-item-num\">5&nbsp;&nbsp;</span>Flujo de control</a></span><ul class=\"toc-item\"><li><span><a href=\"#If/Else\" data-toc-modified-id=\"If/Else-5.1\"><span class=\"toc-item-num\">5.1&nbsp;&nbsp;</span>If/Else</a></span></li><li><span><a href=\"#Bucles\" data-toc-modified-id=\"Bucles-5.2\"><span class=\"toc-item-num\">5.2&nbsp;&nbsp;</span>Bucles</a></span><ul class=\"toc-item\"><li><span><a href=\"#bucles-'while'\" data-toc-modified-id=\"bucles-'while'-5.2.1\"><span class=\"toc-item-num\">5.2.1&nbsp;&nbsp;</span>bucles 'while'</a></span></li><li><span><a href=\"#bucles-'for'\" data-toc-modified-id=\"bucles-'for'-5.2.2\"><span class=\"toc-item-num\">5.2.2&nbsp;&nbsp;</span>bucles 'for'</a></span></li><li><span><a href=\"#Lista-/-comprensión-dict\" data-toc-modified-id=\"Lista-/-comprensión-dict-5.2.3\"><span class=\"toc-item-num\">5.2.3&nbsp;&nbsp;</span>Lista / comprensión dict</a></span></li></ul></li></ul></li></ul></div>"
   ]
  },
  {
   "cell_type": "markdown",
   "metadata": {
    "lang": "es"
   },
   "source": [
    "Tenga en cuenta que estamos usando Python 3.7\n",
    "(__NO__ Python 2! Python 2 está muerto)"
   ]
  },
  {
   "cell_type": "markdown",
   "metadata": {},
   "source": [
    "Clicar aquí para abrir el cuaderno en google Colab. Toca sin miedo, te prometemos que no se romperá. \n",
    "\n",
    "[![Open In Colab](https://colab.research.google.com/assets/colab-badge.svg)](https://colab.research.google.com/github/mrBronnWow/Curso_Beginners/blob/main/0_Actividad_Inicial_de_Curso_Basico/0_1%20intro_to_python_es.ipynb)"
   ]
  },
  {
   "cell_type": "code",
   "execution_count": 3,
   "metadata": {},
   "outputs": [
    {
     "name": "stdout",
     "output_type": "stream",
     "text": [
      "3.7.6 (default, Jan  8 2020, 20:23:39) [MSC v.1916 64 bit (AMD64)]\n"
     ]
    }
   ],
   "source": [
    "# Let's make sure we are using Python 3\n",
    "import sys\n",
    "print(sys.version)"
   ]
  },
  {
   "cell_type": "markdown",
   "metadata": {
    "lang": "es"
   },
   "source": [
    "# ¡Empecemos!"
   ]
  },
  {
   "cell_type": "code",
   "execution_count": 12,
   "metadata": {},
   "outputs": [
    {
     "name": "stdout",
     "output_type": "stream",
     "text": [
      "Hello AiSaturdays!\n"
     ]
    }
   ],
   "source": [
    "print('Hello AiSaturdays!')"
   ]
  },
  {
   "cell_type": "markdown",
   "metadata": {
    "lang": "es"
   },
   "source": [
    "`print` es una función incorporada. Lo usaremos varias veces."
   ]
  },
  {
   "cell_type": "markdown",
   "metadata": {
    "lang": "es"
   },
   "source": [
    "# Tipos de datos básicos: números, booleanos y cadenas\n",
    "\n",
    "Los tipos de datos básicos en python3 son:\n",
    "https://realpython.com/python-data-types/\n",
    "\n",
    "- Numérico: enteros, flotantes y números complejos\n",
    "- Texto: cadenas\n",
    "- Lógica: booleana"
   ]
  },
  {
   "cell_type": "markdown",
   "metadata": {
    "lang": "es"
   },
   "source": [
    "## Numérico\n",
    "\n",
    "Nota:\n",
    "- Use la función `type ()` para obtener el tipo de una variable\n",
    "- Los números pueden ser enteros ('int'), como 3, 5 y 3049\n",
    "- Los números decimales son flotantes ('float'), como 2.5, 3.1 y 2.34938493\n",
    "- Los números imaginarios se definen con la letra `j`"
   ]
  },
  {
   "cell_type": "code",
   "execution_count": 15,
   "metadata": {},
   "outputs": [
    {
     "name": "stdout",
     "output_type": "stream",
     "text": [
      "<class 'int'>\n",
      "5\n",
      "<class 'float'>\n",
      "2.3\n",
      "<class 'complex'>\n",
      "2j\n"
     ]
    }
   ],
   "source": [
    "a_int = 5\n",
    "print(type(a_int))\n",
    "print(a_int)\n",
    "\n",
    "a_float = 2.3\n",
    "print(type(a_float))\n",
    "print(a_float)\n",
    "\n",
    "a_img = 2j\n",
    "print(type(a_img))\n",
    "print(a_img)"
   ]
  },
  {
   "cell_type": "markdown",
   "metadata": {
    "lang": "es"
   },
   "source": [
    "### Operadores matemáticos: +, -, \\ *, /,* *\n",
    "\n",
    "Los operadores matemáticos le permiten realizar operaciones matemáticas.\n",
    "Nota:`**` es el operador de exponenciación"
   ]
  },
  {
   "cell_type": "code",
   "execution_count": 7,
   "metadata": {},
   "outputs": [
    {
     "name": "stdout",
     "output_type": "stream",
     "text": [
      "3\n",
      "1\n",
      "4\n",
      "1.0\n",
      "4\n"
     ]
    }
   ],
   "source": [
    "a = 2\n",
    "b = a + 1\n",
    "print(b)\n",
    "c = a - 1\n",
    "print(c)\n",
    "d = a * 2\n",
    "print(d)\n",
    "e = a / 2\n",
    "print(e)\n",
    "\n",
    "f = a ** 2\n",
    "print(f)"
   ]
  },
  {
   "cell_type": "markdown",
   "metadata": {
    "lang": "es"
   },
   "source": [
    "### Operadores matemáticos abreviados\n",
    "`a + = 1` es la abreviatura de` a = a + 1`"
   ]
  },
  {
   "cell_type": "code",
   "execution_count": 18,
   "metadata": {},
   "outputs": [
    {
     "name": "stdout",
     "output_type": "stream",
     "text": [
      "6\n",
      "12\n",
      "3.0\n",
      "1.0\n"
     ]
    }
   ],
   "source": [
    "a = 5\n",
    "a += 1\n",
    "print(a)\n",
    "a *= 2\n",
    "print(a)\n",
    "a /= 4\n",
    "print(a)\n",
    "a -= 2\n",
    "print(a)"
   ]
  },
  {
   "cell_type": "markdown",
   "metadata": {
    "pycharm": {
     "name": "#%% md\n"
    }
   },
   "source": [
    "<div class=\"alert alert-block alert-danger\">\n",
    "<b>Warning :</b> `+=` it's not the same as `=+`. \n",
    "</div>"
   ]
  },
  {
   "cell_type": "code",
   "execution_count": 25,
   "metadata": {},
   "outputs": [
    {
     "name": "stdout",
     "output_type": "stream",
     "text": [
      "1.0\n"
     ]
    }
   ],
   "source": [
    "print(f'{a}')"
   ]
  },
  {
   "cell_type": "code",
   "execution_count": 29,
   "metadata": {},
   "outputs": [
    {
     "name": "stdout",
     "output_type": "stream",
     "text": [
      "5\n"
     ]
    }
   ],
   "source": [
    "a = 1\n",
    "a += 4\n",
    "print(a)"
   ]
  },
  {
   "cell_type": "code",
   "execution_count": 30,
   "metadata": {},
   "outputs": [
    {
     "name": "stdout",
     "output_type": "stream",
     "text": [
      "4\n"
     ]
    }
   ],
   "source": [
    "a = 1\n",
    "a =+ 4\n",
    "print(a)"
   ]
  },
  {
   "cell_type": "markdown",
   "metadata": {
    "lang": "es"
   },
   "source": [
    "## Booleanos y operadores lógicos"
   ]
  },
  {
   "cell_type": "code",
   "execution_count": 31,
   "metadata": {},
   "outputs": [
    {
     "name": "stdout",
     "output_type": "stream",
     "text": [
      "<class 'bool'>\n",
      "True\n"
     ]
    }
   ],
   "source": [
    "im_true = True\n",
    "im_false = False\n",
    "\n",
    "print(type(im_true))\n",
    "print(im_true)"
   ]
  },
  {
   "cell_type": "markdown",
   "metadata": {
    "lang": "es"
   },
   "source": [
    "### Operadores logicos\n",
    "Los operadores lógicos (`==` y `! =`) Le permiten comparar los valores de las variables en el lado izquierdo y derecho."
   ]
  },
  {
   "cell_type": "code",
   "execution_count": 32,
   "metadata": {},
   "outputs": [
    {
     "name": "stdout",
     "output_type": "stream",
     "text": [
      "False\n",
      "True\n"
     ]
    }
   ],
   "source": [
    "print(im_true == im_false)\n",
    "print(im_true != im_false)"
   ]
  },
  {
   "cell_type": "markdown",
   "metadata": {},
   "source": [
    "The `and` operator will return `True` only if both elements are `True`."
   ]
  },
  {
   "cell_type": "code",
   "execution_count": 33,
   "metadata": {},
   "outputs": [
    {
     "name": "stdout",
     "output_type": "stream",
     "text": [
      "False\n"
     ]
    }
   ],
   "source": [
    "print(im_true and im_false)"
   ]
  },
  {
   "cell_type": "markdown",
   "metadata": {},
   "source": [
    "The `or` operator will return `True` if  any of the variables are `True`."
   ]
  },
  {
   "cell_type": "code",
   "execution_count": 34,
   "metadata": {},
   "outputs": [
    {
     "name": "stdout",
     "output_type": "stream",
     "text": [
      "True\n"
     ]
    }
   ],
   "source": [
    "print(im_true or im_false)"
   ]
  },
  {
   "cell_type": "code",
   "execution_count": 37,
   "metadata": {},
   "outputs": [
    {
     "data": {
      "text/plain": [
       "2"
      ]
     },
     "execution_count": 37,
     "metadata": {},
     "output_type": "execute_result"
    }
   ],
   "source": [
    "im_true + im_true"
   ]
  },
  {
   "cell_type": "markdown",
   "metadata": {
    "lang": "es"
   },
   "source": [
    "<div class=\"alert alert-block alert-danger\">\n",
    "<b>Warning :</b> Boolean TRue a menudo se trata como entero 1 y False como 0. Uso de operaciones matemáticas, por ejemplo, `+`:\n",
    "    Verdadero + Verdadero será 2.\n",
    "</div>"
   ]
  },
  {
   "cell_type": "code",
   "execution_count": 43,
   "metadata": {},
   "outputs": [
    {
     "data": {
      "text/plain": [
       "2"
      ]
     },
     "execution_count": 43,
     "metadata": {},
     "output_type": "execute_result"
    }
   ],
   "source": [
    "True + True"
   ]
  },
  {
   "cell_type": "code",
   "execution_count": 44,
   "metadata": {},
   "outputs": [
    {
     "data": {
      "text/plain": [
       "True"
      ]
     },
     "execution_count": 44,
     "metadata": {},
     "output_type": "execute_result"
    }
   ],
   "source": [
    "True and True"
   ]
  },
  {
   "cell_type": "code",
   "execution_count": 46,
   "metadata": {},
   "outputs": [
    {
     "data": {
      "text/plain": [
       "1"
      ]
     },
     "execution_count": 46,
     "metadata": {},
     "output_type": "execute_result"
    }
   ],
   "source": [
    "True + False"
   ]
  },
  {
   "cell_type": "code",
   "execution_count": 47,
   "metadata": {},
   "outputs": [
    {
     "data": {
      "text/plain": [
       "False"
      ]
     },
     "execution_count": 47,
     "metadata": {},
     "output_type": "execute_result"
    }
   ],
   "source": [
    "True and False"
   ]
  },
  {
   "cell_type": "markdown",
   "metadata": {
    "lang": "es"
   },
   "source": [
    "## 1.3 Strings (cadenas de caracteres)\n",
    "Puede usar comillas simples o dobles para cadenas."
   ]
  },
  {
   "cell_type": "code",
   "execution_count": 1,
   "metadata": {},
   "outputs": [
    {
     "name": "stdout",
     "output_type": "stream",
     "text": [
      "Altran Part of Capgemini\n"
     ]
    }
   ],
   "source": [
    "my_string = 'Altran'\n",
    "my_other_string = \"Part of Capgemini\"\n",
    "print(my_string, my_other_string)"
   ]
  },
  {
   "cell_type": "markdown",
   "metadata": {
    "lang": "es"
   },
   "source": [
    "### Métodos de strings\n",
    "Cuerdas de concatenación:"
   ]
  },
  {
   "cell_type": "code",
   "execution_count": 6,
   "metadata": {},
   "outputs": [
    {
     "name": "stdout",
     "output_type": "stream",
     "text": [
      "HelloAltranPart of Capgemini\n"
     ]
    }
   ],
   "source": [
    "another_string = 'Hello' + my_string + my_other_string\n",
    "print(another_string)"
   ]
  },
  {
   "cell_type": "markdown",
   "metadata": {
    "lang": "es"
   },
   "source": [
    "<div class=\"alert alert-block alert-warning\">\n",
    "<b> Cuidado con los espacios. </b>\n",
    "</div>"
   ]
  },
  {
   "cell_type": "code",
   "execution_count": 5,
   "metadata": {},
   "outputs": [
    {
     "name": "stdout",
     "output_type": "stream",
     "text": [
      "Hello, Altran Part of Capgemini\n"
     ]
    }
   ],
   "source": [
    "another_string = 'Hello, ' + my_string + \" \" + my_other_string\n",
    "print(another_string)"
   ]
  },
  {
   "cell_type": "markdown",
   "metadata": {
    "lang": "es"
   },
   "source": [
    "Obtenga la longitud de la cadena:"
   ]
  },
  {
   "cell_type": "code",
   "execution_count": 11,
   "metadata": {},
   "outputs": [
    {
     "name": "stdout",
     "output_type": "stream",
     "text": [
      "22\n"
     ]
    }
   ],
   "source": [
    "print(len(another_string))"
   ]
  },
  {
   "cell_type": "markdown",
   "metadata": {
    "lang": "es"
   },
   "source": [
    "`len` es otra función incorporada"
   ]
  },
  {
   "cell_type": "markdown",
   "metadata": {
    "lang": "es"
   },
   "source": [
    "Las cadenas se pueden multiplicar."
   ]
  },
  {
   "cell_type": "code",
   "execution_count": null,
   "metadata": {},
   "outputs": [],
   "source": []
  },
  {
   "cell_type": "markdown",
   "metadata": {
    "lang": "es"
   },
   "source": [
    "# Tipos de datos de contenedor\n",
    "\n",
    "Algunos contenedores incorporados son\n",
    "- Lista y tuplas\n",
    "- Establecer\n",
    "- Dict\n",
    "\n",
    "Se pueden dividir en mutables o inmutables:\n",
    "\n",
    "- Inmutables: Tuplas\n",
    "- Mutable: lista, dict y conjuntos.\n",
    "\n",
    "\n",
    "## Listas\n",
    "Una `lista` de Python almacena múltiples elementos, cuyos tipos pueden ser diferentes."
   ]
  },
  {
   "cell_type": "code",
   "execution_count": 56,
   "metadata": {},
   "outputs": [
    {
     "name": "stdout",
     "output_type": "stream",
     "text": [
      "['a', 'b', 'c', 3485]\n"
     ]
    }
   ],
   "source": [
    "my_list = ['a', 'b', 'c', 3485]\n",
    "print(my_list)"
   ]
  },
  {
   "cell_type": "markdown",
   "metadata": {
    "lang": "es"
   },
   "source": [
    "Puede acceder a un elemento en una lista con la siguiente sintaxis:"
   ]
  },
  {
   "cell_type": "markdown",
   "metadata": {
    "lang": "es"
   },
   "source": [
    "<div class=\"alert alert-block alert-info\">\n",
    "<b>Note :</b>, el primer elemento de una lista tiene un índice de cero.\n",
    "</div>"
   ]
  },
  {
   "cell_type": "code",
   "execution_count": 57,
   "metadata": {},
   "outputs": [
    {
     "name": "stdout",
     "output_type": "stream",
     "text": [
      "c\n",
      "a\n"
     ]
    }
   ],
   "source": [
    "print(my_list[2])\n",
    "print(my_list[0])"
   ]
  },
  {
   "cell_type": "markdown",
   "metadata": {
    "lang": "es"
   },
   "source": [
    "Reasignación de elementos en una lista:"
   ]
  },
  {
   "cell_type": "code",
   "execution_count": 58,
   "metadata": {},
   "outputs": [
    {
     "name": "stdout",
     "output_type": "stream",
     "text": [
      "['Ai', 'b', 'c', 3485]\n"
     ]
    }
   ],
   "source": [
    "my_list[0] = 'Ai'\n",
    "print(my_list)"
   ]
  },
  {
   "cell_type": "markdown",
   "metadata": {
    "lang": "es"
   },
   "source": [
    "Agregar / eliminar elementos de una lista:"
   ]
  },
  {
   "cell_type": "code",
   "execution_count": 59,
   "metadata": {},
   "outputs": [
    {
     "name": "stdout",
     "output_type": "stream",
     "text": [
      "['Ai', 'b', 'c', 3485, 'Saturdays']\n",
      "['Ai', 'b', 'c', 3485]\n"
     ]
    }
   ],
   "source": [
    "my_list.append('Saturdays')\n",
    "print(my_list)\n",
    "\n",
    "my_list.pop()\n",
    "print(my_list)"
   ]
  },
  {
   "cell_type": "markdown",
   "metadata": {
    "lang": "es"
   },
   "source": [
    "Acceso a múltiples elementos en una lista:"
   ]
  },
  {
   "cell_type": "code",
   "execution_count": 16,
   "metadata": {},
   "outputs": [
    {
     "name": "stdout",
     "output_type": "stream",
     "text": [
      "['delta', 'b']\n",
      "['c', 3485]\n",
      "['delta', 'b']\n"
     ]
    }
   ],
   "source": [
    "print(my_list[0:2]) # Access elements in index 0, 1 and 2\n",
    "print(my_list[2:]) # Access elements from index 2 to the end\n",
    "print(my_list[:2]) # Access elements from the beginning to index 2"
   ]
  },
  {
   "cell_type": "markdown",
   "metadata": {
    "lang": "es"
   },
   "source": [
    "## Tuplas\n",
    "Una tupla es una secuencia de objetos Python inmutables. Las tuplas son secuencias, al igual que las listas. Las diferencias entre las tuplas y las listas son que las tuplas no se pueden cambiar a diferencia de las listas y las tuplas usan paréntesis, mientras que las listas usan corchetes."
   ]
  },
  {
   "cell_type": "code",
   "execution_count": 60,
   "metadata": {
    "pycharm": {
     "name": "#%% \n"
    }
   },
   "outputs": [
    {
     "name": "stdout",
     "output_type": "stream",
     "text": [
      "(2, 'a')\n",
      "2\n",
      "<class 'tuple'>\n"
     ]
    }
   ],
   "source": [
    "a = (2, 'a')\n",
    "print(a)\n",
    "\n",
    "print(a[0])\n",
    "print(type(a))"
   ]
  },
  {
   "cell_type": "markdown",
   "metadata": {
    "lang": "es"
   },
   "source": [
    "Para acceder a todas las propiedades y métodos de un objeto, use la función incorporada `dir`."
   ]
  },
  {
   "cell_type": "code",
   "execution_count": 63,
   "metadata": {
    "pycharm": {
     "name": "#%% \n"
    }
   },
   "outputs": [
    {
     "data": {
      "text/plain": [
       "['__add__',\n",
       " '__class__',\n",
       " '__contains__',\n",
       " '__delattr__',\n",
       " '__dir__',\n",
       " '__doc__',\n",
       " '__eq__',\n",
       " '__format__',\n",
       " '__ge__',\n",
       " '__getattribute__',\n",
       " '__getitem__',\n",
       " '__getnewargs__',\n",
       " '__gt__',\n",
       " '__hash__',\n",
       " '__init__',\n",
       " '__init_subclass__',\n",
       " '__iter__',\n",
       " '__le__',\n",
       " '__len__',\n",
       " '__lt__',\n",
       " '__mul__',\n",
       " '__ne__',\n",
       " '__new__',\n",
       " '__reduce__',\n",
       " '__reduce_ex__',\n",
       " '__repr__',\n",
       " '__rmul__',\n",
       " '__setattr__',\n",
       " '__sizeof__',\n",
       " '__str__',\n",
       " '__subclasshook__',\n",
       " 'count',\n",
       " 'index']"
      ]
     },
     "execution_count": 63,
     "metadata": {},
     "output_type": "execute_result"
    }
   ],
   "source": [
    "dir(a)"
   ]
  },
  {
   "cell_type": "markdown",
   "metadata": {
    "lang": "es"
   },
   "source": [
    "## Diccionarios\n",
    "Los diccionarios contienen pares clave / valor y son útiles para almacenar información."
   ]
  },
  {
   "cell_type": "code",
   "execution_count": 65,
   "metadata": {},
   "outputs": [
    {
     "data": {
      "text/plain": [
       "{'key_one': 'Ai', 'key_two': 'Saturdays'}"
      ]
     },
     "execution_count": 65,
     "metadata": {},
     "output_type": "execute_result"
    }
   ],
   "source": [
    "my_dict = { 'key_one': 'Ai', 'key_two': 'Saturdays' }\n",
    "my_dict"
   ]
  },
  {
   "cell_type": "markdown",
   "metadata": {
    "lang": "es"
   },
   "source": [
    "Acceda a un valor de un diccionario mediante una clave:"
   ]
  },
  {
   "cell_type": "code",
   "execution_count": 66,
   "metadata": {},
   "outputs": [
    {
     "name": "stdout",
     "output_type": "stream",
     "text": [
      "Ai\n",
      "Saturdays\n"
     ]
    }
   ],
   "source": [
    "print(my_dict['key_one'])\n",
    "print(my_dict['key_two'])"
   ]
  },
  {
   "cell_type": "markdown",
   "metadata": {
    "lang": "es"
   },
   "source": [
    "Recorriendo los valores de un diccionario:\n",
    "\n",
    "<div class=\"alert alert-block alert-info\">\n",
    "<b>Note :</b> consulte las siguientes secciones a continuación para obtener información sobre los bucles.\n",
    "</div>"
   ]
  },
  {
   "cell_type": "code",
   "execution_count": 69,
   "metadata": {},
   "outputs": [
    {
     "name": "stdout",
     "output_type": "stream",
     "text": [
      "The key is key_one\n",
      "The key is key_two\n"
     ]
    }
   ],
   "source": [
    "for key in my_dict:\n",
    "    print(\"The key is \" + key)"
   ]
  },
  {
   "cell_type": "code",
   "execution_count": 70,
   "metadata": {},
   "outputs": [
    {
     "name": "stdout",
     "output_type": "stream",
     "text": [
      "The key is key_one, and the value is Ai\n",
      "The key is key_two, and the value is Saturdays\n"
     ]
    }
   ],
   "source": [
    "for key, value in my_dict.items():\n",
    "    print(\"The key is \" + key + \", and the value is \" + value)"
   ]
  },
  {
   "cell_type": "markdown",
   "metadata": {
    "lang": "es"
   },
   "source": [
    "## Conjuntos\n",
    "Los conjuntos son similares a las listas, pero solo pueden contener valores únicos."
   ]
  },
  {
   "cell_type": "code",
   "execution_count": 72,
   "metadata": {},
   "outputs": [
    {
     "name": "stdout",
     "output_type": "stream",
     "text": [
      "{'hello', 1, 2, 3}\n"
     ]
    }
   ],
   "source": [
    "my_set = {1, 2, 3, 3, 3, 3, 'hello'}\n",
    "print(my_set)"
   ]
  },
  {
   "cell_type": "markdown",
   "metadata": {
    "lang": "es"
   },
   "source": [
    "Al definir un conjunto con el mismo valor presente varias veces, solo se agregará un elemento al conjunto."
   ]
  },
  {
   "cell_type": "markdown",
   "metadata": {
    "lang": "es"
   },
   "source": [
    "# 3. Funciones\n",
    "Una función es un bloque de código reutilizable que realiza una determinada acción. Una vez que haya definido una función, ¡puede usarla en cualquier parte de su código!"
   ]
  },
  {
   "cell_type": "markdown",
   "metadata": {
    "lang": "es"
   },
   "source": [
    "Definiendo una función:"
   ]
  },
  {
   "cell_type": "code",
   "execution_count": 73,
   "metadata": {
    "pycharm": {
     "name": "#%%\n"
    }
   },
   "outputs": [],
   "source": [
    "def am_i_happy(happiness_level):\n",
    "    \"\"\" Function that prints if I'm happy or not.\"\"\"\n",
    "    \n",
    "    if happiness_level >= 10:\n",
    "        return \"I'm very happy.\"\n",
    "    elif happiness_level >= 5:\n",
    "        return \"I'm happy.\"\n",
    "    else:\n",
    "        return \"I am not happy.\""
   ]
  },
  {
   "cell_type": "markdown",
   "metadata": {
    "lang": "es"
   },
   "source": [
    "Llamar a una función:"
   ]
  },
  {
   "cell_type": "code",
   "execution_count": 74,
   "metadata": {},
   "outputs": [
    {
     "name": "stdout",
     "output_type": "stream",
     "text": [
      "I am not happy.\n"
     ]
    }
   ],
   "source": [
    "print(am_i_happy(0))"
   ]
  },
  {
   "cell_type": "code",
   "execution_count": 75,
   "metadata": {},
   "outputs": [
    {
     "name": "stdout",
     "output_type": "stream",
     "text": [
      "I'm happy.\n"
     ]
    }
   ],
   "source": [
    "print(am_i_happy(5))"
   ]
  },
  {
   "cell_type": "markdown",
   "metadata": {
    "lang": "es"
   },
   "source": [
    "# Flujo de control\n",
    "\n",
    "Hay varias oraciones de control de flujo. Los fundamentos son:\n",
    "\n",
    "- Declaración if / else:\n",
    "- bucles\n",
    "    *Para bucles* Lista de comprensión\n",
    "    * Mientras bucles"
   ]
  },
  {
   "cell_type": "markdown",
   "metadata": {},
   "source": [
    "## If/Else"
   ]
  },
  {
   "cell_type": "code",
   "execution_count": 26,
   "metadata": {},
   "outputs": [
    {
     "name": "stdout",
     "output_type": "stream",
     "text": [
      "Take a nap\n"
     ]
    }
   ],
   "source": [
    "sleepy = True\n",
    "hungry = False\n",
    "\n",
    "if sleepy and hungry:\n",
    "    print(\"Eat a snack and take a nap.\")\n",
    "elif sleepy and not hungry:\n",
    "    print(\"Take a nap\")\n",
    "elif hungry and not sleepy:\n",
    "    print(\"Eat a snack\")\n",
    "else:\n",
    "    print(\"Go on with your day\")"
   ]
  },
  {
   "cell_type": "markdown",
   "metadata": {
    "lang": "es"
   },
   "source": [
    "## Bucles\n",
    "Iterar sobre objetos iterables, como cadenas, matrices, rango, lista, tuplas, conjuntos, dictados.\n",
    "\n",
    "### bucles 'while'\n",
    "\n",
    "Mientras que los bucles se ejecutan hasta que se alcanza una condición de salida."
   ]
  },
  {
   "cell_type": "code",
   "execution_count": 78,
   "metadata": {},
   "outputs": [
    {
     "name": "stdout",
     "output_type": "stream",
     "text": [
      "You have counted to 0\n",
      "You have counted to 1\n",
      "You have counted to 2\n",
      "You have counted to 3\n",
      "You have counted to 4\n",
      "You have counted to 5\n",
      "You have counted to 6\n",
      "You have counted to 7\n",
      "You have counted to 8\n",
      "You have counted to 9\n",
      "You're finished counting.\n"
     ]
    }
   ],
   "source": [
    "counter = 0\n",
    "while (counter < 10): # this is the exit condition\n",
    "    print(\"You have counted to\", counter)\n",
    "    counter = counter + 1 # Increment the counter\n",
    "    \n",
    "print(\"You're finished counting.\")"
   ]
  },
  {
   "cell_type": "markdown",
   "metadata": {
    "lang": "es"
   },
   "source": [
    "### bucles 'for'\n",
    "Recorrer una lista:"
   ]
  },
  {
   "cell_type": "code",
   "execution_count": 79,
   "metadata": {},
   "outputs": [
    {
     "name": "stdout",
     "output_type": "stream",
     "text": [
      "cats are cool\n",
      "dogs are cool\n",
      "lions are cool\n",
      "bears are cool\n"
     ]
    }
   ],
   "source": [
    "cool_animals = ['cat', 'dog', 'lion', 'bear']\n",
    "for animal in cool_animals:\n",
    "    print(animal + \"s are cool\")"
   ]
  },
  {
   "cell_type": "markdown",
   "metadata": {},
   "source": [
    "Loop over a dict:"
   ]
  },
  {
   "cell_type": "code",
   "execution_count": 80,
   "metadata": {},
   "outputs": [
    {
     "name": "stdout",
     "output_type": "stream",
     "text": [
      "The dog says bark!\n",
      "The cat says meow!\n",
      "The pig says oink!\n"
     ]
    }
   ],
   "source": [
    "animal_sounds = {\n",
    "    'dog': 'bark',\n",
    "    'cat': 'meow',\n",
    "    'pig': 'oink'\n",
    "}\n",
    "\n",
    "for animal, sound in animal_sounds.items():\n",
    "    print(\"The \" + animal + \" says \" + sound + \"!\")"
   ]
  },
  {
   "cell_type": "markdown",
   "metadata": {
    "lang": "es"
   },
   "source": [
    "### Lista / comprensión dict\n",
    "\n",
    "Otra sintaxis para usar `for-loops` en python se llama comprensión de lista. Son mucho\n",
    "más legible y ampliamente utilizado.\n",
    "\n",
    "Este sintax devuelve una `lista`."
   ]
  },
  {
   "cell_type": "code",
   "execution_count": 81,
   "metadata": {
    "pycharm": {
     "is_executing": false,
     "name": "#%%\n"
    }
   },
   "outputs": [],
   "source": [
    "cool_animals = ['cat', 'dog', 'lion', 'bear']\n",
    "text = [animal + \"s are cool\" for animal in cool_animals]"
   ]
  },
  {
   "cell_type": "code",
   "execution_count": 82,
   "metadata": {},
   "outputs": [
    {
     "name": "stdout",
     "output_type": "stream",
     "text": [
      "['cats are cool', 'dogs are cool', 'lions are cool', 'bears are cool']\n"
     ]
    }
   ],
   "source": [
    "print(text)"
   ]
  },
  {
   "cell_type": "code",
   "execution_count": 84,
   "metadata": {},
   "outputs": [
    {
     "name": "stdout",
     "output_type": "stream",
     "text": [
      "Applause\n"
     ]
    }
   ],
   "source": [
    "print('Applause')"
   ]
  }
 ],
 "metadata": {
  "kernelspec": {
   "display_name": "Python 3",
   "language": "python",
   "name": "python3"
  },
  "language_info": {
   "codemirror_mode": {
    "name": "ipython",
    "version": 3
   },
   "file_extension": ".py",
   "mimetype": "text/x-python",
   "name": "python",
   "nbconvert_exporter": "python",
   "pygments_lexer": "ipython3",
   "version": "3.8.3rc1"
  },
  "latex_envs": {
   "LaTeX_envs_menu_present": true,
   "autoclose": false,
   "autocomplete": true,
   "bibliofile": "biblio.bib",
   "cite_by": "apalike",
   "current_citInitial": 1,
   "eqLabelWithNumbers": true,
   "eqNumInitial": 1,
   "hotkeys": {
    "equation": "Ctrl-E",
    "itemize": "Ctrl-I"
   },
   "labels_anchors": false,
   "latex_user_defs": false,
   "report_style_numbering": false,
   "user_envs_cfg": false
  },
  "nbTranslate": {
   "displayLangs": [
    "es"
   ],
   "hotkey": "alt-t",
   "langInMainMenu": true,
   "sourceLang": "en",
   "targetLang": "es",
   "useGoogleTranslate": true
  },
  "pycharm": {
   "stem_cell": {
    "cell_type": "raw",
    "metadata": {
     "collapsed": false
    },
    "source": []
   }
  },
  "toc": {
   "base_numbering": 1,
   "nav_menu": {},
   "number_sections": true,
   "sideBar": true,
   "skip_h1_title": false,
   "title_cell": "Table of Contents",
   "title_sidebar": "Contents",
   "toc_cell": true,
   "toc_position": {
    "height": "calc(100% - 180px)",
    "left": "10px",
    "top": "150px",
    "width": "321.424px"
   },
   "toc_section_display": true,
   "toc_window_display": true
  }
 },
 "nbformat": 4,
 "nbformat_minor": 4
}
