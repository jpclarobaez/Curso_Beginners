{
  "cells": [
    {
      "metadata": {
        "toc": true
      },
      "cell_type": "markdown",
      "source": "<h1>Table of Contents<span class=\"tocSkip\"></span></h1>\n<div class=\"toc\"><ul class=\"toc-item\"><li><span><a href=\"#Crear-usando-un-bucle-while-un-código-que-nos-devuelva-los-15-primeros-dígitos.\" data-toc-modified-id=\"Crear-usando-un-bucle-while-un-código-que-nos-devuelva-los-15-primeros-dígitos.-1\"><span class=\"toc-item-num\">1&nbsp;&nbsp;</span>Crear usando un bucle while un código que nos devuelva los 15 primeros dígitos.</a></span></li><li><span><a href=\"#Crear-usando-un-bucle-while-un-código-que-nos-devuelva-todos-los-dígitos-menores-a-1500.\" data-toc-modified-id=\"Crear-usando-un-bucle-while-un-código-que-nos-devuelva-todos-los-dígitos-menores-a-1500.-2\"><span class=\"toc-item-num\">2&nbsp;&nbsp;</span>Crear usando un bucle while un código que nos devuelva todos los dígitos menores a 1500.</a></span></li><li><span><a href=\"#Crear-usando-un-bucle-for-un-código-que-nos-devuelva-los-15-primeros-dígitos-.\" data-toc-modified-id=\"Crear-usando-un-bucle-for-un-código-que-nos-devuelva-los-15-primeros-dígitos-.-3\"><span class=\"toc-item-num\">3&nbsp;&nbsp;</span>Crear usando un bucle for un código que nos devuelva los 15 primeros dígitos .</a></span></li><li><span><a href=\"#Crear-un-código-que-nos-devuelva-una-lista-que-contenga-los-15-primeros-dígitos-.\" data-toc-modified-id=\"Crear-un-código-que-nos-devuelva-una-lista-que-contenga-los-15-primeros-dígitos-.-4\"><span class=\"toc-item-num\">4&nbsp;&nbsp;</span>Crear un código que nos devuelva una lista que contenga los 15 primeros dígitos .</a></span></li><li><span><a href=\"#Crear-una-función,-que-reciba-como-input-un-número-n,-y-devuelva-una-lista-con-una-cantidad-n-de-dígitos-de-Fibonacci\" data-toc-modified-id=\"Crear-una-función,-que-reciba-como-input-un-número-n,-y-devuelva-una-lista-con-una-cantidad-n-de-dígitos-de-Fibonacci-5\"><span class=\"toc-item-num\">5&nbsp;&nbsp;</span>Crear una función, que reciba como input un número n, y devuelva una lista con una cantidad n de dígitos de Fibonacci</a></span></li></ul></div>"
    },
    {
      "metadata": {},
      "cell_type": "markdown",
      "source": "# Actividad1"
    },
    {
      "metadata": {},
      "cell_type": "markdown",
      "source": "## Crear usando un bucle while un código que nos devuelva los 15 primeros dígitos."
    },
    {
      "metadata": {
        "trusted": true
      },
      "cell_type": "code",
      "source": "fmenos1 = 1\nfmenos2 = 0\nfn = 0\ncnt = 0\nwhile cnt< 15:\n    print(fn)\n    fn = fmenos1 + fmenos2\n    fmenos1 = fmenos2\n    fmenos2 = fn\n    cnt += 1",
      "execution_count": 7,
      "outputs": [
        {
          "output_type": "stream",
          "text": "0\n1\n1\n2\n3\n5\n8\n13\n21\n34\n55\n89\n144\n233\n377\n",
          "name": "stdout"
        }
      ]
    },
    {
      "metadata": {},
      "cell_type": "markdown",
      "source": "## Crear usando un bucle while un código que nos devuelva todos los dígitos menores a 1500."
    },
    {
      "metadata": {
        "trusted": true
      },
      "cell_type": "code",
      "source": "fmenos1 = 1\nfmenos2 = 0\nfn = 0\n\nwhile fn< 1500:\n    print(fn)\n    fn = fmenos1 + fmenos2\n    fmenos1 = fmenos2\n    fmenos2 = fn",
      "execution_count": 15,
      "outputs": [
        {
          "output_type": "stream",
          "text": "0\n1\n1\n2\n3\n5\n8\n13\n21\n34\n55\n89\n144\n233\n377\n610\n987\n",
          "name": "stdout"
        }
      ]
    },
    {
      "metadata": {},
      "cell_type": "markdown",
      "source": "##  Crear usando un bucle for un código que nos devuelva los 15 primeros dígitos ."
    },
    {
      "metadata": {
        "trusted": true
      },
      "cell_type": "code",
      "source": "fmenos1 = 1\nfmenos2 = 0\nfn = 0\n\nfor i in range(15):\n  print(fn)\n  fn = fmenos1 + fmenos2\n  fmenos1 = fmenos2\n  fmenos2 = fn",
      "execution_count": 11,
      "outputs": [
        {
          "output_type": "stream",
          "text": "0\n1\n1\n2\n3\n5\n8\n13\n21\n34\n55\n89\n144\n233\n377\n",
          "name": "stdout"
        }
      ]
    },
    {
      "metadata": {},
      "cell_type": "markdown",
      "source": "## Crear un código que nos devuelva una lista que contenga los 15 primeros dígitos ."
    },
    {
      "metadata": {
        "trusted": true
      },
      "cell_type": "code",
      "source": "fib = [0,1,1]\nfor i in range(2,14):\n    aux = fib[i] + fib[i-1] \n    fib.append(aux)\n\nprint(fib)",
      "execution_count": 14,
      "outputs": [
        {
          "output_type": "stream",
          "text": "[0, 1, 1, 2, 3, 5, 8, 13, 21, 34, 55, 89, 144, 233, 377]\n",
          "name": "stdout"
        }
      ]
    },
    {
      "metadata": {},
      "cell_type": "markdown",
      "source": "## Crear una función, que reciba como input un número n, y devuelva una lista con una cantidad n de dígitos de Fibonacci"
    },
    {
      "metadata": {
        "trusted": true
      },
      "cell_type": "code",
      "source": "def fibonacci(n):\n    \"\"\"\n    Función que devuelve una lista con N digitos de la sucesión de Fibonacci.\n    args: integer\n    return: lista.\n    \"\"\"\n    if n == 1:\n        return [0]\n    elif n == 2:\n        return [0,1]\n    else:\n        fib = [0,1,1]\n        for i in range(2,n-1):\n            aux = fib[-1] + fib[-2] \n            fib.append(aux)\n        return fib",
      "execution_count": 19,
      "outputs": []
    },
    {
      "metadata": {
        "trusted": true
      },
      "cell_type": "code",
      "source": "fibonacci(1)",
      "execution_count": 20,
      "outputs": [
        {
          "output_type": "execute_result",
          "execution_count": 20,
          "data": {
            "text/plain": "[0]"
          },
          "metadata": {}
        }
      ]
    },
    {
      "metadata": {
        "trusted": true
      },
      "cell_type": "code",
      "source": "fibonacci(2)",
      "execution_count": 22,
      "outputs": [
        {
          "output_type": "execute_result",
          "execution_count": 22,
          "data": {
            "text/plain": "[0, 1]"
          },
          "metadata": {}
        }
      ]
    },
    {
      "metadata": {},
      "cell_type": "markdown",
      "source": "<div class='alert alert-block alert-success'><b>Tip: </b> Genial. Tu solucion funciona para N mayores que 3! Si a esta solucion le pedimos que nos devuelva dos números, ¿qué ocurre?</div>"
    },
    {
      "metadata": {},
      "cell_type": "markdown",
      "source": "<div class='alert alert-block alert-success'><b>Tip: </b> ¿Y un solo número?</div>"
    },
    {
      "metadata": {},
      "cell_type": "markdown",
      "source": "<div class='alert alert-block alert-success'><b>Tip: </b> Tenemos que tener en cuenta esas posibilidades. Te dejo una solucion para ello. </div>"
    },
    {
      "metadata": {
        "trusted": true
      },
      "cell_type": "code",
      "source": "fibonacci(5)",
      "execution_count": 23,
      "outputs": [
        {
          "output_type": "execute_result",
          "execution_count": 23,
          "data": {
            "text/plain": "[0, 1, 1, 2, 3]"
          },
          "metadata": {}
        }
      ]
    },
    {
      "metadata": {
        "trusted": true
      },
      "cell_type": "code",
      "source": "fibonacci(1)",
      "execution_count": 12,
      "outputs": [
        {
          "output_type": "execute_result",
          "execution_count": 12,
          "data": {
            "text/plain": "[1, 1]"
          },
          "metadata": {}
        }
      ]
    },
    {
      "metadata": {
        "trusted": true
      },
      "cell_type": "code",
      "source": "",
      "execution_count": null,
      "outputs": []
    }
  ],
  "metadata": {
    "kernelspec": {
      "name": "python3",
      "display_name": "Python 3",
      "language": "python"
    },
    "nbTranslate": {
      "hotkey": "alt-t",
      "sourceLang": "en",
      "targetLang": "fr",
      "displayLangs": [
        "*"
      ],
      "langInMainMenu": true,
      "useGoogleTranslate": true
    },
    "toc": {
      "nav_menu": {},
      "number_sections": true,
      "sideBar": false,
      "skip_h1_title": true,
      "base_numbering": 1,
      "title_cell": "Table of Contents",
      "title_sidebar": "Contents",
      "toc_cell": true,
      "toc_position": {},
      "toc_section_display": true,
      "toc_window_display": false
    },
    "language_info": {
      "name": "python",
      "version": "3.8.3rc1",
      "mimetype": "text/x-python",
      "codemirror_mode": {
        "name": "ipython",
        "version": 3
      },
      "pygments_lexer": "ipython3",
      "nbconvert_exporter": "python",
      "file_extension": ".py"
    },
    "gist": {
      "id": "66a64668b8026cb4a10aa90c533add29",
      "data": {
        "description": "CorrecionesAltran/Profesor_actividad1.ipynb",
        "public": false
      }
    },
    "_draft": {
      "nbviewer_url": "https://gist.github.com/66a64668b8026cb4a10aa90c533add29"
    }
  },
  "nbformat": 4,
  "nbformat_minor": 5
}